{
 "cells": [
  {
   "cell_type": "code",
   "execution_count": 252,
   "metadata": {},
   "outputs": [],
   "source": [
    "# Generic imports\n",
    "from mpl_toolkits.mplot3d import Axes3D\n",
    "import numpy as np\n",
    "import matplotlib.pyplot as plt\n",
    "import PIL\n",
    "\n",
    "\n",
    "# Local imports\n",
    "import sys\n",
    "sys.path.append('../../../../')\n",
    "import stlstuff as sls\n",
    "import imagestuff as ims\n",
    "import facetbrightnessstuff9 as fbs \n",
    "import f90nml"
   ]
  },
  {
   "cell_type": "code",
   "execution_count": 253,
   "metadata": {},
   "outputs": [],
   "source": [
    "%matplotlib notebook"
   ]
  },
  {
   "cell_type": "code",
   "execution_count": 254,
   "metadata": {},
   "outputs": [],
   "source": [
    "# Parameters\n",
    "ABCDangle_deg = 15.0\n",
    "theta = ABCDangle_deg*np.pi/180"
   ]
  },
  {
   "cell_type": "code",
   "execution_count": 255,
   "metadata": {},
   "outputs": [],
   "source": [
    "# Specifying the boxes/vectors and output file\n",
    "Boxesfile = 'Boxes.nml'\n",
    "Boxes=f90nml.read(Boxesfile) #reads the file at a given path\n",
    "Calibrationfile = 'Calibration.nml'"
   ]
  },
  {
   "cell_type": "code",
   "execution_count": 256,
   "metadata": {},
   "outputs": [
    {
     "name": "stdout",
     "output_type": "stream",
     "text": [
      "30\n",
      "nboxes = 3\n",
      "[172 145 280]\n",
      "[135 230 160]\n"
     ]
    }
   ],
   "source": [
    "# Define boxes for calibration\n",
    "nx1list=Boxes['Boxes']['nx1list']\n",
    "ny1list=Boxes['Boxes']['ny1list']\n",
    "labellist=Boxes['Boxes']['labellist']\n",
    "boxsize=Boxes['Boxes']['boxsize']; print (boxsize)\n",
    "\n",
    "# Packaging these values for subsequent use\n",
    "nboxes = len(nx1list); print (\"nboxes =\", nboxes)\n",
    "nx2list = np.array(nx1list)+boxsize; print(nx2list)\n",
    "ny2list = np.array(ny1list)+boxsize; print(ny2list)"
   ]
  },
  {
   "cell_type": "code",
   "execution_count": 257,
   "metadata": {},
   "outputs": [
    {
     "name": "stdout",
     "output_type": "stream",
     "text": [
      "[110, 105, 200, 60]\n"
     ]
    }
   ],
   "source": [
    "# Define vectors for calibration\n",
    "xorigin=Boxes['Vectors']['xorigin']\n",
    "yorigin=Boxes['Vectors']['yorigin']\n",
    "xa=Boxes['Vectors']['xa']\n",
    "ya=Boxes['Vectors']['ya']\n",
    "xb=Boxes['Vectors']['xb']\n",
    "yb=Boxes['Vectors']['yb']\n",
    "xc=Boxes['Vectors']['xc']\n",
    "yc=Boxes['Vectors']['yc']\n",
    "\n",
    "# Packaging these values for subsequent use\n",
    "linea = [xorigin,yorigin,xa,ya]; print (linea)\n",
    "lineb = [xorigin,yorigin,xb,yb]\n",
    "linec = [xorigin,yorigin,xc,yc]"
   ]
  },
  {
   "cell_type": "code",
   "execution_count": 258,
   "metadata": {},
   "outputs": [
    {
     "name": "stdout",
     "output_type": "stream",
     "text": [
      "Filename, dx and dy SEMimages/2018-07-05_1.0-D.bmp 0.4409722 0.4409722\n"
     ]
    }
   ],
   "source": [
    "# Read the input dataset, including spacing in micrometers\n",
    "imageroot = '2018-07-05_1.0'\n",
    "dx,dy,cA,cB,cC,cD,Filename = ims.getc2('', 'SEMimages/', imageroot)\n",
    "print(\"Filename, dx and dy\", Filename, dx, dy)"
   ]
  },
  {
   "cell_type": "code",
   "execution_count": 259,
   "metadata": {
    "scrolled": false
   },
   "outputs": [],
   "source": [
    "# Graph the segments\n",
    "im = PIL.Image.open(Filename)\n",
    "draw = PIL.ImageDraw.Draw(im)\n",
    "draw.line(linea, fill=200,width=5)\n",
    "draw.line(lineb, fill=150,width=5)\n",
    "draw.line(linec, fill=100,width=5)\n",
    "draw.text((xa-20,ya-20), 'a')\n",
    "draw.text((xb-20,yb+20), 'b')   \n",
    "for i in range(nboxes):\n",
    "    nx1 = nx1list[i]\n",
    "    nx2 = nx2list[i]\n",
    "    ny1 = ny1list[i]\n",
    "    ny2 = ny2list[i]\n",
    "    ims.myrectanglelabel(draw,(nx1,ny1),(nx2,ny2),labellist[i])\n",
    "# plt.figure()    \n",
    "# plt.title(imageroot)\n",
    "# plt.show(im,cmap = 'Greys_r', vmin = 0,vmax = 255)\n",
    "im.show() # This shouldn't be necessary but there seems to be a bug with plt.show"
   ]
  },
  {
   "cell_type": "code",
   "execution_count": 260,
   "metadata": {},
   "outputs": [
    {
     "name": "stdout",
     "output_type": "stream",
     "text": [
      "found 16 solutions\n",
      "physically reasonable solution is # 10\n",
      "cvec =\n",
      " [[-0.17186203]\n",
      " [-0.14608273]\n",
      " [-0.97422958]]\n",
      "avec =\n",
      " [[ 0.89076866]\n",
      " [-0.44538433]\n",
      " [-0.09035483]]\n",
      "bvec =\n",
      " [[-0.08104111]\n",
      " [ 0.98768856]\n",
      " [-0.13380454]]\n",
      "navec =\n",
      " [[-0.42070731]\n",
      " [-0.88334174]\n",
      " [ 0.20667057]]\n",
      "nbvec =\n",
      " [[-0.98178194]\n",
      " [-0.05595673]\n",
      " [ 0.18158487]]\n",
      "unit normal a-facet =\n",
      " [[-0.29077817]\n",
      " [-0.71136278]\n",
      " [ 0.63985237]]\n",
      "unit normal b-facet =\n",
      " [[-0.78617767]\n",
      " [ 0.01917483]\n",
      " [ 0.61770301]]\n",
      "unit normal d-facet =\n",
      " [[0.17186203]\n",
      " [0.14608273]\n",
      " [0.97422958]]\n"
     ]
    }
   ],
   "source": [
    "# Calculate normal vectors of the crystal ... Details of this will change for each crystal\n",
    "avec, bvec, cvec, navec, nbvec = fbs.solveforabc(\\\n",
    "                 xa-xorigin,ya-yorigin,\\\n",
    "                 xb-xorigin,yb-yorigin,\\\n",
    "                 xc-xorigin,yc-yorigin)\n",
    "print ('cvec =\\n',cvec)\n",
    "print ('avec =\\n',avec)\n",
    "print ('bvec =\\n',bvec)\n",
    "print ('navec =\\n',navec)\n",
    "print ('nbvec =\\n',nbvec)\n",
    "\n",
    "Rot28 = ims.myrotation_matrix(avec, -28.) # use avec or bvec depending on which one the pyramidal facet touches\n",
    "navec = Rot28*navec # solverforabc gives this as already normalized \n",
    "print ('unit normal a-facet =\\n',navec)\n",
    "\n",
    "Rot28 = ims.myrotation_matrix(bvec, 28.) # use avec or bvec depending on which one the pyramidal facet touches\n",
    "nbvec = Rot28*nbvec # solverforabc gives this as already normalized \n",
    "print ('unit normal b-facet =\\n',nbvec)\n",
    "\n",
    "ndvec = -cvec # solverforabc gives this as already normalized \n",
    "print ('unit normal d-facet =\\n',ndvec)"
   ]
  },
  {
   "cell_type": "code",
   "execution_count": null,
   "metadata": {},
   "outputs": [],
   "source": [
    "# This is just checking\n",
    "im = PIL.Image.open(Filename)\n",
    "fig, ax = plt.subplots()\n",
    "draw = PIL.ImageDraw.Draw(im)\n",
    "for i in range(nboxes):\n",
    "    nx1 = nx1list[i]\n",
    "    nx2 = nx2list[i]\n",
    "    ny1 = ny1list[i]\n",
    "    ny2 = ny2list[i]\n",
    "    ims.myrectanglelabel(draw,(nx1,ny1),(nx2,ny2),labellist[i])\n",
    "ax.set_title(imageroot)\n",
    "\n",
    "# For boxes \"a\", \"b\", and \"d\"\n",
    "amp = 100\n",
    "boxcenterx = nx1list[0]+boxsize/2\n",
    "boxcentery = ny1list[0]+boxsize/2\n",
    "linea_disp = list(np.squeeze([boxcenterx,boxcentery,boxcenterx+navec[0]*amp,boxcentery+navec[1]*amp]).astype(int))\n",
    "draw.line(linea_disp, fill=200,width=3)\n",
    "\n",
    "boxcenterx = nx1list[1]+boxsize/2\n",
    "boxcentery = ny1list[1]+boxsize/2\n",
    "lineb_disp = list(np.squeeze([boxcenterx,boxcentery,boxcenterx+nbvec[0]*amp,boxcentery+nbvec[1]*amp]).astype(int))\n",
    "draw.line(lineb_disp, fill=200,width=3)\n",
    "\n",
    "boxcenterx = nx1list[2]+boxsize/2\n",
    "boxcentery = ny1list[2]+boxsize/2\n",
    "lineb_disp = list(np.squeeze([boxcenterx,boxcentery,boxcenterx+ndvec[0]*amp,boxcentery+ndvec[1]*amp]).astype(int))\n",
    "draw.line(lineb_disp, fill=200,width=3)\n",
    "\n",
    "plt.show(im,cmap = 'Greys_r', vmin = 0,vmax = 255)\n",
    "im.show() # This shouldn't be necessary but there seems to be a bug with plt.show"
   ]
  },
  {
   "cell_type": "code",
   "execution_count": null,
   "metadata": {},
   "outputs": [],
   "source": [
    "# For each detector, get s-values\n",
    "sAa, sBa, sCa, sDa = ims.mygets(navec,theta)\n",
    "sAb, sBb, sCb, sDb = ims.mygets(nbvec,theta)\n",
    "sAd, sBd, sCd, sDd = ims.mygets(ndvec,theta)\n",
    "slistA = np.squeeze(np.array([sAa, sAb, sAd]))\n",
    "slistB = np.squeeze(np.array([sBa, sBb, sBd]))\n",
    "slistC = np.squeeze(np.array([sCa, sCb, sCd]))\n",
    "slistD = np.squeeze(np.array([sDa, sDb, sDd]))\n",
    "\n",
    "# For each detector, get s-values\n",
    "sAa, sBa, sCa, sDa = ims.mygets(navec,theta)\n",
    "sAb, sBb, sCb, sDb = ims.mygets(nbvec,theta)\n",
    "sAd, sBd, sCd, sDd = ims.mygets(ndvec,theta)\n",
    "slistA = np.squeeze(np.array([sAa, sAb, sAd]))\n",
    "slistB = np.squeeze(np.array([sBa, sBb, sBd]))\n",
    "slistC = np.squeeze(np.array([sCa, sCb, sCd]))\n",
    "slistD = np.squeeze(np.array([sDa, sDb, sDd]))\n",
    "\n",
    "# Extract the observed intensities\n",
    "cA_obs = []\n",
    "cB_obs = []\n",
    "cC_obs = []\n",
    "cD_obs = []\n",
    "for isegment in range(nboxes):\n",
    "    nx1=nx1list[isegment]; nx2=nx2list[isegment] \n",
    "    ny1=ny1list[isegment]; ny2=ny2list[isegment]\n",
    "    cA_obs.append(np.mean(cA[ny1:ny2,nx1:nx2].astype('float')))\n",
    "    cB_obs.append(np.mean(cB[ny1:ny2,nx1:nx2].astype('float')))\n",
    "    cC_obs.append(np.mean(cC[ny1:ny2,nx1:nx2].astype('float')))\n",
    "    cD_obs.append(np.mean(cD[ny1:ny2,nx1:nx2].astype('float')))"
   ]
  },
  {
   "cell_type": "code",
   "execution_count": null,
   "metadata": {
    "scrolled": false
   },
   "outputs": [],
   "source": [
    "# See what the A-D detector parameters look like graphically\n",
    "plt.figure()\n",
    "markersize = 10\n",
    "plt.plot(slistA,cA_obs,'or',markersize=15)\n",
    "plt.plot(slistB,cB_obs,'<b',markersize=15)\n",
    "plt.plot(slistC,cC_obs,'sy',markersize=15)\n",
    "plt.plot(slistD,cD_obs,'>g',markersize=15)\n",
    "plt.legend(['A', 'B', 'C', 'D'],loc='upper left')\n",
    "plt.plot(slistA[0],cA_obs[0],'k*')\n",
    "plt.plot(slistA[1],cA_obs[1],'kx')\n",
    "plt.plot(slistA[2],cA_obs[2],'k+')\n",
    "plt.plot(slistB[0],cB_obs[0],'k*')\n",
    "plt.plot(slistB[1],cB_obs[1],'kx')\n",
    "plt.plot(slistB[2],cB_obs[2],'k+')\n",
    "plt.plot(slistC[0],cC_obs[0],'k*')\n",
    "plt.plot(slistC[1],cC_obs[1],'kx')\n",
    "plt.plot(slistC[2],cC_obs[2],'k+')\n",
    "plt.plot(slistD[0],cD_obs[0],'k*')\n",
    "plt.plot(slistD[1],cD_obs[1],'kx')\n",
    "plt.plot(slistD[2],cD_obs[2],'k+')\n",
    "plt.grid()\n",
    "srange = [-.6,.6]\n",
    "plt.xlim(srange)\n",
    "plt.xlabel('$s$')\n",
    "plt.ylabel('$c_{obs}$')\n",
    "\n",
    "\n",
    "# Fitting\n",
    "maxorder = 1\n",
    "order = min(len(slistA)-1,maxorder)\n",
    "pA = np.polyfit(slistA,cA_obs,order); print('pA =', pA[0], ',', pA[1])\n",
    "pB = np.polyfit(slistB,cB_obs,order); print('pB =', pB[0], ',', pB[1])\n",
    "pC = np.polyfit(slistC,cC_obs,order); print('pC =', pC[0], ',', pC[1])\n",
    "pD = np.polyfit(slistD,cD_obs,order); print('pD =', pD[0], ',', pD[1])\n",
    "s_theory = np.linspace(srange[0],srange[1])\n",
    "cA_theory = np.polyval(pA,s_theory)\n",
    "cB_theory = np.polyval(pB,s_theory)\n",
    "cC_theory = np.polyval(pC,s_theory)\n",
    "cD_theory = np.polyval(pD,s_theory)\n",
    "plt.plot(s_theory,cA_theory,'-r',linewidth=2)\n",
    "plt.plot(s_theory,cB_theory,'--b',linewidth=2)\n",
    "plt.plot(s_theory,cC_theory,'-.y',linewidth=2)\n",
    "plt.plot(s_theory,cD_theory,':g',linewidth=2)\n",
    "plt.title(imageroot)"
   ]
  },
  {
   "cell_type": "code",
   "execution_count": null,
   "metadata": {},
   "outputs": [],
   "source": [
    "# Save the calibration file\n",
    "cfile = open(Calibrationfile,'w')\n",
    "cfile.write('&Calibration\\n')\n",
    "cfile.write('   '+'pA = '+str(pA[0])+',  '+str(pA[1])+'\\n')\n",
    "cfile.write('   '+'pB = '+str(pB[0])+',  '+str(pB[1])+'\\n')\n",
    "cfile.write('   '+'pC = '+str(pC[0])+',  '+str(pC[1])+'\\n')\n",
    "cfile.write('   '+'pD = '+str(pD[0])+',  '+str(pD[1])+'\\n')\n",
    "cfile.write('/ \\n')\n",
    "cfile.close()"
   ]
  },
  {
   "cell_type": "code",
   "execution_count": null,
   "metadata": {},
   "outputs": [],
   "source": []
  }
 ],
 "metadata": {
  "kernelspec": {
   "display_name": "Python 3",
   "language": "python",
   "name": "python3"
  },
  "language_info": {
   "codemirror_mode": {
    "name": "ipython",
    "version": 3
   },
   "file_extension": ".py",
   "mimetype": "text/x-python",
   "name": "python",
   "nbconvert_exporter": "python",
   "pygments_lexer": "ipython3",
   "version": "3.6.4"
  }
 },
 "nbformat": 4,
 "nbformat_minor": 1
}
