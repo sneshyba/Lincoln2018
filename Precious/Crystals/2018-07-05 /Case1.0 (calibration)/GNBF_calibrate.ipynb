{
 "cells": [
  {
   "cell_type": "code",
   "execution_count": 2,
   "metadata": {},
   "outputs": [],
   "source": [
    "# Generic imports\n",
    "from mpl_toolkits.mplot3d import Axes3D\n",
    "import numpy as np\n",
    "import matplotlib.pyplot as plt\n",
    "import PIL\n",
    "\n",
    "\n",
    "# Local imports\n",
    "import sys\n",
    "sys.path.append('../../../../')\n",
    "import stlstuff as sls\n",
    "import imagestuff as ims\n",
    "import facetbrightnessstuff9 as fbs \n",
    "import f90nml"
   ]
  },
  {
   "cell_type": "code",
   "execution_count": 3,
   "metadata": {},
   "outputs": [
    {
     "data": {
      "text/plain": [
       "'/Users/chemistry/Desktop/Lincoln2018/Precious/Crystals/2018-07-05 /Case1.0 (calibration)'"
      ]
     },
     "execution_count": 3,
     "metadata": {},
     "output_type": "execute_result"
    }
   ],
   "source": [
    "pwd"
   ]
  },
  {
   "cell_type": "code",
   "execution_count": 4,
   "metadata": {},
   "outputs": [],
   "source": [
    "%matplotlib notebook"
   ]
  },
  {
   "cell_type": "code",
   "execution_count": 5,
   "metadata": {},
   "outputs": [],
   "source": [
    "# Parameters\n",
    "ABCDangle_deg = 15.0\n",
    "theta = ABCDangle_deg*np.pi/180"
   ]
  },
  {
   "cell_type": "code",
   "execution_count": 6,
   "metadata": {},
   "outputs": [],
   "source": [
    "# Specifying the boxes/vectors and output file\n",
    "Boxesfile = 'Boxes.nml'\n",
    "Boxes=f90nml.read(Boxesfile) #reads the file at a given path\n",
    "Calibrationfile = 'Calibration.nml'"
   ]
  },
  {
   "cell_type": "code",
   "execution_count": 7,
   "metadata": {},
   "outputs": [
    {
     "name": "stdout",
     "output_type": "stream",
     "text": [
      "20\n",
      "nboxes = 3\n",
      "[460 363 360]\n",
      "[255 347 255]\n"
     ]
    }
   ],
   "source": [
    "# Define boxes for calibration\n",
    "nx1list=Boxes['Boxes']['nx1list']\n",
    "ny1list=Boxes['Boxes']['ny1list']\n",
    "labellist=Boxes['Boxes']['labellist']\n",
    "boxsize=Boxes['Boxes']['boxsize']; print (boxsize)\n",
    "\n",
    "# Packaging these values for subsequent use\n",
    "nboxes = len(nx1list); print (\"nboxes =\", nboxes)\n",
    "nx2list = np.array(nx1list)+boxsize; print(nx2list)\n",
    "ny2list = np.array(ny1list)+boxsize; print(ny2list)"
   ]
  },
  {
   "cell_type": "code",
   "execution_count": 8,
   "metadata": {},
   "outputs": [
    {
     "name": "stdout",
     "output_type": "stream",
     "text": [
      "[472, 280, 460, 53]\n"
     ]
    }
   ],
   "source": [
    "# Define vectors for calibration\n",
    "xorigin=Boxes['Vectors']['xorigin']\n",
    "yorigin=Boxes['Vectors']['yorigin']\n",
    "xa=Boxes['Vectors']['xa']\n",
    "ya=Boxes['Vectors']['ya']\n",
    "xb=Boxes['Vectors']['xb']\n",
    "yb=Boxes['Vectors']['yb']\n",
    "xc=Boxes['Vectors']['xc']\n",
    "yc=Boxes['Vectors']['yc']\n",
    "\n",
    "# Packaging these values for subsequent use\n",
    "linea = [xorigin,yorigin,xa,ya]; print (linea)\n",
    "lineb = [xorigin,yorigin,xb,yb]\n",
    "linec = [xorigin,yorigin,xc,yc]"
   ]
  },
  {
   "cell_type": "code",
   "execution_count": 9,
   "metadata": {},
   "outputs": [
    {
     "ename": "FileNotFoundError",
     "evalue": "[Errno 2] No such file or directory: 'SEMimages/2018-06-28_1.1-A.bmp'",
     "output_type": "error",
     "traceback": [
      "\u001b[0;31m---------------------------------------------------------------------------\u001b[0m",
      "\u001b[0;31mFileNotFoundError\u001b[0m                         Traceback (most recent call last)",
      "\u001b[0;32m<ipython-input-9-215bc3faba16>\u001b[0m in \u001b[0;36m<module>\u001b[0;34m()\u001b[0m\n\u001b[1;32m      1\u001b[0m \u001b[0;31m# Read the input dataset, including spacing in micrometers\u001b[0m\u001b[0;34m\u001b[0m\u001b[0;34m\u001b[0m\u001b[0m\n\u001b[1;32m      2\u001b[0m \u001b[0mimageroot\u001b[0m \u001b[0;34m=\u001b[0m \u001b[0;34m'2018-06-28_1.1'\u001b[0m\u001b[0;34m\u001b[0m\u001b[0m\n\u001b[0;32m----> 3\u001b[0;31m \u001b[0mdx\u001b[0m\u001b[0;34m,\u001b[0m\u001b[0mdy\u001b[0m\u001b[0;34m,\u001b[0m\u001b[0mcA\u001b[0m\u001b[0;34m,\u001b[0m\u001b[0mcB\u001b[0m\u001b[0;34m,\u001b[0m\u001b[0mcC\u001b[0m\u001b[0;34m,\u001b[0m\u001b[0mcD\u001b[0m\u001b[0;34m,\u001b[0m\u001b[0mFilename\u001b[0m \u001b[0;34m=\u001b[0m \u001b[0mims\u001b[0m\u001b[0;34m.\u001b[0m\u001b[0mgetc2\u001b[0m\u001b[0;34m(\u001b[0m\u001b[0;34m''\u001b[0m\u001b[0;34m,\u001b[0m \u001b[0;34m'SEMimages/'\u001b[0m\u001b[0;34m,\u001b[0m \u001b[0mimageroot\u001b[0m\u001b[0;34m)\u001b[0m\u001b[0;34m\u001b[0m\u001b[0m\n\u001b[0m\u001b[1;32m      4\u001b[0m \u001b[0mprint\u001b[0m\u001b[0;34m(\u001b[0m\u001b[0;34m\"Filename, dx and dy\"\u001b[0m\u001b[0;34m,\u001b[0m \u001b[0mFilename\u001b[0m\u001b[0;34m,\u001b[0m \u001b[0mdx\u001b[0m\u001b[0;34m,\u001b[0m \u001b[0mdy\u001b[0m\u001b[0;34m)\u001b[0m\u001b[0;34m\u001b[0m\u001b[0m\n",
      "\u001b[0;32m~/Desktop/Lincoln2018/imagestuff.py\u001b[0m in \u001b[0;36mgetc2\u001b[0;34m(folder, namebase, imageroot)\u001b[0m\n\u001b[1;32m     15\u001b[0m         \u001b[0mFilename\u001b[0m \u001b[0;34m=\u001b[0m \u001b[0mfolder\u001b[0m\u001b[0;34m+\u001b[0m\u001b[0mnamebase\u001b[0m\u001b[0;34m+\u001b[0m\u001b[0mimageroot\u001b[0m \u001b[0;34m+\u001b[0m \u001b[0;34m'-'\u001b[0m \u001b[0;34m+\u001b[0m \u001b[0mdet\u001b[0m \u001b[0;34m+\u001b[0m \u001b[0;34m'.bmp'\u001b[0m\u001b[0;34m\u001b[0m\u001b[0m\n\u001b[1;32m     16\u001b[0m         \u001b[0;31m#print(Filename)\u001b[0m\u001b[0;34m\u001b[0m\u001b[0;34m\u001b[0m\u001b[0m\n\u001b[0;32m---> 17\u001b[0;31m         \u001b[0mvalue\u001b[0m\u001b[0;34m,\u001b[0m \u001b[0mNx\u001b[0m\u001b[0;34m,\u001b[0m \u001b[0mNy\u001b[0m\u001b[0;34m,\u001b[0m \u001b[0mFilename\u001b[0m \u001b[0;34m=\u001b[0m \u001b[0mgetval2\u001b[0m\u001b[0;34m(\u001b[0m\u001b[0mFilename\u001b[0m\u001b[0;34m)\u001b[0m\u001b[0;34m\u001b[0m\u001b[0m\n\u001b[0m\u001b[1;32m     18\u001b[0m         \u001b[0;32mif\u001b[0m \u001b[0mdet\u001b[0m \u001b[0;34m==\u001b[0m \u001b[0;34m'A'\u001b[0m\u001b[0;34m:\u001b[0m\u001b[0;34m\u001b[0m\u001b[0m\n\u001b[1;32m     19\u001b[0m             \u001b[0mcA\u001b[0m \u001b[0;34m=\u001b[0m \u001b[0mvalue\u001b[0m \u001b[0;31m#raw bmp data\u001b[0m\u001b[0;34m\u001b[0m\u001b[0m\n",
      "\u001b[0;32m~/Desktop/Lincoln2018/imagestuff.py\u001b[0m in \u001b[0;36mgetval2\u001b[0;34m(Filename)\u001b[0m\n\u001b[1;32m      6\u001b[0m \u001b[0;34m\u001b[0m\u001b[0m\n\u001b[1;32m      7\u001b[0m \u001b[0;32mdef\u001b[0m \u001b[0mgetval2\u001b[0m\u001b[0;34m(\u001b[0m\u001b[0mFilename\u001b[0m\u001b[0;34m)\u001b[0m\u001b[0;34m:\u001b[0m \u001b[0;31m#gets pixel values for a single bmp image\u001b[0m\u001b[0;34m\u001b[0m\u001b[0m\n\u001b[0;32m----> 8\u001b[0;31m     \u001b[0mvalue\u001b[0m \u001b[0;34m=\u001b[0m \u001b[0mmisc\u001b[0m\u001b[0;34m.\u001b[0m\u001b[0mimread\u001b[0m\u001b[0;34m(\u001b[0m\u001b[0mFilename\u001b[0m\u001b[0;34m)\u001b[0m\u001b[0;34m\u001b[0m\u001b[0m\n\u001b[0m\u001b[1;32m      9\u001b[0m     \u001b[0mNx\u001b[0m\u001b[0;34m,\u001b[0m\u001b[0mNz\u001b[0m \u001b[0;34m=\u001b[0m \u001b[0mvalue\u001b[0m\u001b[0;34m.\u001b[0m\u001b[0mshape\u001b[0m\u001b[0;34m\u001b[0m\u001b[0m\n\u001b[1;32m     10\u001b[0m     \u001b[0;32mreturn\u001b[0m \u001b[0mvalue\u001b[0m\u001b[0;34m,\u001b[0m \u001b[0mNx\u001b[0m\u001b[0;34m,\u001b[0m \u001b[0mNz\u001b[0m\u001b[0;34m,\u001b[0m \u001b[0mFilename\u001b[0m\u001b[0;34m\u001b[0m\u001b[0m\n",
      "\u001b[0;32m~/anaconda3/lib/python3.6/site-packages/numpy/lib/utils.py\u001b[0m in \u001b[0;36mnewfunc\u001b[0;34m(*args, **kwds)\u001b[0m\n\u001b[1;32m     99\u001b[0m             \u001b[0;34m\"\"\"`arrayrange` is deprecated, use `arange` instead!\"\"\"\u001b[0m\u001b[0;34m\u001b[0m\u001b[0m\n\u001b[1;32m    100\u001b[0m             \u001b[0mwarnings\u001b[0m\u001b[0;34m.\u001b[0m\u001b[0mwarn\u001b[0m\u001b[0;34m(\u001b[0m\u001b[0mdepdoc\u001b[0m\u001b[0;34m,\u001b[0m \u001b[0mDeprecationWarning\u001b[0m\u001b[0;34m,\u001b[0m \u001b[0mstacklevel\u001b[0m\u001b[0;34m=\u001b[0m\u001b[0;36m2\u001b[0m\u001b[0;34m)\u001b[0m\u001b[0;34m\u001b[0m\u001b[0m\n\u001b[0;32m--> 101\u001b[0;31m             \u001b[0;32mreturn\u001b[0m \u001b[0mfunc\u001b[0m\u001b[0;34m(\u001b[0m\u001b[0;34m*\u001b[0m\u001b[0margs\u001b[0m\u001b[0;34m,\u001b[0m \u001b[0;34m**\u001b[0m\u001b[0mkwds\u001b[0m\u001b[0;34m)\u001b[0m\u001b[0;34m\u001b[0m\u001b[0m\n\u001b[0m\u001b[1;32m    102\u001b[0m \u001b[0;34m\u001b[0m\u001b[0m\n\u001b[1;32m    103\u001b[0m         \u001b[0mnewfunc\u001b[0m \u001b[0;34m=\u001b[0m \u001b[0m_set_function_name\u001b[0m\u001b[0;34m(\u001b[0m\u001b[0mnewfunc\u001b[0m\u001b[0;34m,\u001b[0m \u001b[0mold_name\u001b[0m\u001b[0;34m)\u001b[0m\u001b[0;34m\u001b[0m\u001b[0m\n",
      "\u001b[0;32m~/anaconda3/lib/python3.6/site-packages/scipy/misc/pilutil.py\u001b[0m in \u001b[0;36mimread\u001b[0;34m(name, flatten, mode)\u001b[0m\n\u001b[1;32m    162\u001b[0m     \"\"\"\n\u001b[1;32m    163\u001b[0m \u001b[0;34m\u001b[0m\u001b[0m\n\u001b[0;32m--> 164\u001b[0;31m     \u001b[0mim\u001b[0m \u001b[0;34m=\u001b[0m \u001b[0mImage\u001b[0m\u001b[0;34m.\u001b[0m\u001b[0mopen\u001b[0m\u001b[0;34m(\u001b[0m\u001b[0mname\u001b[0m\u001b[0;34m)\u001b[0m\u001b[0;34m\u001b[0m\u001b[0m\n\u001b[0m\u001b[1;32m    165\u001b[0m     \u001b[0;32mreturn\u001b[0m \u001b[0mfromimage\u001b[0m\u001b[0;34m(\u001b[0m\u001b[0mim\u001b[0m\u001b[0;34m,\u001b[0m \u001b[0mflatten\u001b[0m\u001b[0;34m=\u001b[0m\u001b[0mflatten\u001b[0m\u001b[0;34m,\u001b[0m \u001b[0mmode\u001b[0m\u001b[0;34m=\u001b[0m\u001b[0mmode\u001b[0m\u001b[0;34m)\u001b[0m\u001b[0;34m\u001b[0m\u001b[0m\n\u001b[1;32m    166\u001b[0m \u001b[0;34m\u001b[0m\u001b[0m\n",
      "\u001b[0;32m~/anaconda3/lib/python3.6/site-packages/PIL/Image.py\u001b[0m in \u001b[0;36mopen\u001b[0;34m(fp, mode)\u001b[0m\n\u001b[1;32m   2546\u001b[0m \u001b[0;34m\u001b[0m\u001b[0m\n\u001b[1;32m   2547\u001b[0m     \u001b[0;32mif\u001b[0m \u001b[0mfilename\u001b[0m\u001b[0;34m:\u001b[0m\u001b[0;34m\u001b[0m\u001b[0m\n\u001b[0;32m-> 2548\u001b[0;31m         \u001b[0mfp\u001b[0m \u001b[0;34m=\u001b[0m \u001b[0mbuiltins\u001b[0m\u001b[0;34m.\u001b[0m\u001b[0mopen\u001b[0m\u001b[0;34m(\u001b[0m\u001b[0mfilename\u001b[0m\u001b[0;34m,\u001b[0m \u001b[0;34m\"rb\"\u001b[0m\u001b[0;34m)\u001b[0m\u001b[0;34m\u001b[0m\u001b[0m\n\u001b[0m\u001b[1;32m   2549\u001b[0m         \u001b[0mexclusive_fp\u001b[0m \u001b[0;34m=\u001b[0m \u001b[0;32mTrue\u001b[0m\u001b[0;34m\u001b[0m\u001b[0m\n\u001b[1;32m   2550\u001b[0m \u001b[0;34m\u001b[0m\u001b[0m\n",
      "\u001b[0;31mFileNotFoundError\u001b[0m: [Errno 2] No such file or directory: 'SEMimages/2018-06-28_1.1-A.bmp'"
     ]
    }
   ],
   "source": [
    "# Read the input dataset, including spacing in micrometers\n",
    "imageroot = '2018-06-28_1.1'\n",
    "dx,dy,cA,cB,cC,cD,Filename = ims.getc2('', 'SEMimages/', imageroot)\n",
    "print(\"Filename, dx and dy\", Filename, dx, dy)"
   ]
  },
  {
   "cell_type": "code",
   "execution_count": 10,
   "metadata": {
    "scrolled": false
   },
   "outputs": [
    {
     "ename": "NameError",
     "evalue": "name 'Filename' is not defined",
     "output_type": "error",
     "traceback": [
      "\u001b[0;31m---------------------------------------------------------------------------\u001b[0m",
      "\u001b[0;31mNameError\u001b[0m                                 Traceback (most recent call last)",
      "\u001b[0;32m<ipython-input-10-097e541094c2>\u001b[0m in \u001b[0;36m<module>\u001b[0;34m()\u001b[0m\n\u001b[1;32m      1\u001b[0m \u001b[0;31m# Graph the segments\u001b[0m\u001b[0;34m\u001b[0m\u001b[0;34m\u001b[0m\u001b[0m\n\u001b[0;32m----> 2\u001b[0;31m \u001b[0mim\u001b[0m \u001b[0;34m=\u001b[0m \u001b[0mPIL\u001b[0m\u001b[0;34m.\u001b[0m\u001b[0mImage\u001b[0m\u001b[0;34m.\u001b[0m\u001b[0mopen\u001b[0m\u001b[0;34m(\u001b[0m\u001b[0mFilename\u001b[0m\u001b[0;34m)\u001b[0m\u001b[0;34m\u001b[0m\u001b[0m\n\u001b[0m\u001b[1;32m      3\u001b[0m \u001b[0mdraw\u001b[0m \u001b[0;34m=\u001b[0m \u001b[0mPIL\u001b[0m\u001b[0;34m.\u001b[0m\u001b[0mImageDraw\u001b[0m\u001b[0;34m.\u001b[0m\u001b[0mDraw\u001b[0m\u001b[0;34m(\u001b[0m\u001b[0mim\u001b[0m\u001b[0;34m)\u001b[0m\u001b[0;34m\u001b[0m\u001b[0m\n\u001b[1;32m      4\u001b[0m \u001b[0mdraw\u001b[0m\u001b[0;34m.\u001b[0m\u001b[0mline\u001b[0m\u001b[0;34m(\u001b[0m\u001b[0mlinea\u001b[0m\u001b[0;34m,\u001b[0m \u001b[0mfill\u001b[0m\u001b[0;34m=\u001b[0m\u001b[0;36m200\u001b[0m\u001b[0;34m,\u001b[0m\u001b[0mwidth\u001b[0m\u001b[0;34m=\u001b[0m\u001b[0;36m5\u001b[0m\u001b[0;34m)\u001b[0m\u001b[0;34m\u001b[0m\u001b[0m\n\u001b[1;32m      5\u001b[0m \u001b[0mdraw\u001b[0m\u001b[0;34m.\u001b[0m\u001b[0mline\u001b[0m\u001b[0;34m(\u001b[0m\u001b[0mlineb\u001b[0m\u001b[0;34m,\u001b[0m \u001b[0mfill\u001b[0m\u001b[0;34m=\u001b[0m\u001b[0;36m150\u001b[0m\u001b[0;34m,\u001b[0m\u001b[0mwidth\u001b[0m\u001b[0;34m=\u001b[0m\u001b[0;36m5\u001b[0m\u001b[0;34m)\u001b[0m\u001b[0;34m\u001b[0m\u001b[0m\n",
      "\u001b[0;31mNameError\u001b[0m: name 'Filename' is not defined"
     ]
    }
   ],
   "source": [
    "# Graph the segments\n",
    "im = PIL.Image.open(Filename)\n",
    "draw = PIL.ImageDraw.Draw(im)\n",
    "draw.line(linea, fill=200,width=5)\n",
    "draw.line(lineb, fill=150,width=5)\n",
    "draw.line(linec, fill=100,width=5)\n",
    "draw.text((xa-20,ya-20), 'a')\n",
    "draw.text((xb-20,yb+20), 'b')   \n",
    "for i in range(nboxes):\n",
    "    nx1 = nx1list[i]\n",
    "    nx2 = nx2list[i]\n",
    "    ny1 = ny1list[i]\n",
    "    ny2 = ny2list[i]\n",
    "    ims.myrectanglelabel(draw,(nx1,ny1),(nx2,ny2),labellist[i])\n",
    "plt.figure()    \n",
    "plt.title(imageroot)\n",
    "plt.show(im,cmap = 'Greys_r', vmin = 0,vmax = 255)\n",
    "im.show() # This shouldn't be necessary but there seems to be a bug with plt.show"
   ]
  },
  {
   "cell_type": "code",
   "execution_count": 11,
   "metadata": {},
   "outputs": [
    {
     "name": "stdout",
     "output_type": "stream",
     "text": [
      "found 16 solutions\n",
      "physically reasonable solution is # 7\n",
      "cvec =\n",
      " [[ 0.16415094]\n",
      " [ 0.0105225 ]\n",
      " [-0.98637911]]\n",
      "avec =\n",
      " [[-0.05277976]\n",
      " [-0.99841705]\n",
      " [-0.0194344 ]]\n",
      "bvec =\n",
      " [[-0.82666439]\n",
      " [ 0.54705731]\n",
      " [-0.13173568]]\n",
      "navec =\n",
      " [[-0.98502222]\n",
      " [ 0.05525102]\n",
      " [-0.16333572]]\n",
      "nbvec =\n",
      " [[-0.53821972]\n",
      " [-0.83702902]\n",
      " [-0.09849854]]\n",
      "unit normal a-facet =\n",
      " [[ 0.31750325]\n",
      " [-0.0352296 ]\n",
      " [ 0.94760253]]\n",
      "unit normal b-facet =\n",
      " [[0.10774218]\n",
      " [0.38367051]\n",
      " [0.91716332]]\n",
      "unit normal d-facet =\n",
      " [[-0.16415094]\n",
      " [-0.0105225 ]\n",
      " [ 0.98637911]]\n"
     ]
    }
   ],
   "source": [
    "# Calculate normal vectors of the crystal ... Details of this will change for each crystal\n",
    "avec, bvec, cvec, navec, nbvec = fbs.solveforabc(\\\n",
    "                 xa-xorigin,ya-yorigin,\\\n",
    "                 xb-xorigin,yb-yorigin,\\\n",
    "                 xc-xorigin,yc-yorigin)\n",
    "print ('cvec =\\n',cvec)\n",
    "print ('avec =\\n',avec)\n",
    "print ('bvec =\\n',bvec)\n",
    "print ('navec =\\n',navec)\n",
    "print ('nbvec =\\n',nbvec)\n",
    "\n",
    "Rot28 = ims.myrotation_matrix(avec, -28-90.) # use avec or bvec depending on which one the pyramidal facet touches\n",
    "navec = Rot28*navec # solverforabc gives this as already normalized \n",
    "print ('unit normal a-facet =\\n',navec)\n",
    "\n",
    "Rot28 = ims.myrotation_matrix(bvec, 28+90.) # use avec or bvec depending on which one the pyramidal facet touches\n",
    "nbvec = Rot28*nbvec # solverforabc gives this as already normalized \n",
    "print ('unit normal b-facet =\\n',nbvec)\n",
    "\n",
    "ndvec = -cvec # solverforabc gives this as already normalized \n",
    "print ('unit normal d-facet =\\n',ndvec)"
   ]
  },
  {
   "cell_type": "code",
   "execution_count": 12,
   "metadata": {},
   "outputs": [
    {
     "ename": "NameError",
     "evalue": "name 'Filename' is not defined",
     "output_type": "error",
     "traceback": [
      "\u001b[0;31m---------------------------------------------------------------------------\u001b[0m",
      "\u001b[0;31mNameError\u001b[0m                                 Traceback (most recent call last)",
      "\u001b[0;32m<ipython-input-12-3ffb420bb139>\u001b[0m in \u001b[0;36m<module>\u001b[0;34m()\u001b[0m\n\u001b[1;32m      1\u001b[0m \u001b[0;31m# This is just checking\u001b[0m\u001b[0;34m\u001b[0m\u001b[0;34m\u001b[0m\u001b[0m\n\u001b[0;32m----> 2\u001b[0;31m \u001b[0mim\u001b[0m \u001b[0;34m=\u001b[0m \u001b[0mPIL\u001b[0m\u001b[0;34m.\u001b[0m\u001b[0mImage\u001b[0m\u001b[0;34m.\u001b[0m\u001b[0mopen\u001b[0m\u001b[0;34m(\u001b[0m\u001b[0mFilename\u001b[0m\u001b[0;34m)\u001b[0m\u001b[0;34m\u001b[0m\u001b[0m\n\u001b[0m\u001b[1;32m      3\u001b[0m \u001b[0mfig\u001b[0m\u001b[0;34m,\u001b[0m \u001b[0max\u001b[0m \u001b[0;34m=\u001b[0m \u001b[0mplt\u001b[0m\u001b[0;34m.\u001b[0m\u001b[0msubplots\u001b[0m\u001b[0;34m(\u001b[0m\u001b[0;34m)\u001b[0m\u001b[0;34m\u001b[0m\u001b[0m\n\u001b[1;32m      4\u001b[0m \u001b[0mdraw\u001b[0m \u001b[0;34m=\u001b[0m \u001b[0mPIL\u001b[0m\u001b[0;34m.\u001b[0m\u001b[0mImageDraw\u001b[0m\u001b[0;34m.\u001b[0m\u001b[0mDraw\u001b[0m\u001b[0;34m(\u001b[0m\u001b[0mim\u001b[0m\u001b[0;34m)\u001b[0m\u001b[0;34m\u001b[0m\u001b[0m\n\u001b[1;32m      5\u001b[0m \u001b[0;32mfor\u001b[0m \u001b[0mi\u001b[0m \u001b[0;32min\u001b[0m \u001b[0mrange\u001b[0m\u001b[0;34m(\u001b[0m\u001b[0mnboxes\u001b[0m\u001b[0;34m)\u001b[0m\u001b[0;34m:\u001b[0m\u001b[0;34m\u001b[0m\u001b[0m\n",
      "\u001b[0;31mNameError\u001b[0m: name 'Filename' is not defined"
     ]
    }
   ],
   "source": [
    "# This is just checking\n",
    "im = PIL.Image.open(Filename)\n",
    "fig, ax = plt.subplots()\n",
    "draw = PIL.ImageDraw.Draw(im)\n",
    "for i in range(nboxes):\n",
    "    nx1 = nx1list[i]\n",
    "    nx2 = nx2list[i]\n",
    "    ny1 = ny1list[i]\n",
    "    ny2 = ny2list[i]\n",
    "    ims.myrectanglelabel(draw,(nx1,ny1),(nx2,ny2),labellist[i])\n",
    "ax.set_title(imageroot)\n",
    "\n",
    "# For boxes \"a\", \"b\", and \"d\"\n",
    "amp = 100\n",
    "boxcenterx = nx1list[0]+boxsize/2\n",
    "boxcentery = ny1list[0]+boxsize/2\n",
    "linea_disp = list(np.squeeze([boxcenterx,boxcentery,boxcenterx+navec[0]*amp,boxcentery+navec[1]*amp]).astype(int))\n",
    "draw.line(linea_disp, fill=200,width=3)\n",
    "\n",
    "boxcenterx = nx1list[1]+boxsize/2\n",
    "boxcentery = ny1list[1]+boxsize/2\n",
    "lineb_disp = list(np.squeeze([boxcenterx,boxcentery,boxcenterx+nbvec[0]*amp,boxcentery+nbvec[1]*amp]).astype(int))\n",
    "draw.line(lineb_disp, fill=200,width=3)\n",
    "\n",
    "boxcenterx = nx1list[2]+boxsize/2\n",
    "boxcentery = ny1list[2]+boxsize/2\n",
    "lineb_disp = list(np.squeeze([boxcenterx,boxcentery,boxcenterx+ndvec[0]*amp,boxcentery+ndvec[1]*amp]).astype(int))\n",
    "draw.line(lineb_disp, fill=200,width=3)\n",
    "\n",
    "plt.show(im,cmap = 'Greys_r', vmin = 0,vmax = 255)\n",
    "im.show() # This shouldn't be necessary but there seems to be a bug with plt.show"
   ]
  },
  {
   "cell_type": "code",
   "execution_count": null,
   "metadata": {},
   "outputs": [],
   "source": [
    "# For each detector, get s-values\n",
    "sAa, sBa, sCa, sDa = ims.mygets(navec,theta)\n",
    "sAb, sBb, sCb, sDb = ims.mygets(nbvec,theta)\n",
    "sAd, sBd, sCd, sDd = ims.mygets(ndvec,theta)\n",
    "slistA = np.squeeze(np.array([sAa, sAb, sAd]))\n",
    "slistB = np.squeeze(np.array([sBa, sBb, sBd]))\n",
    "slistC = np.squeeze(np.array([sCa, sCb, sCd]))\n",
    "slistD = np.squeeze(np.array([sDa, sDb, sDd]))\n",
    "\n",
    "# For each detector, get s-values\n",
    "sAa, sBa, sCa, sDa = ims.mygets(navec,theta)\n",
    "sAb, sBb, sCb, sDb = ims.mygets(nbvec,theta)\n",
    "sAd, sBd, sCd, sDd = ims.mygets(ndvec,theta)\n",
    "slistA = np.squeeze(np.array([sAa, sAb, sAd]))\n",
    "slistB = np.squeeze(np.array([sBa, sBb, sBd]))\n",
    "slistC = np.squeeze(np.array([sCa, sCb, sCd]))\n",
    "slistD = np.squeeze(np.array([sDa, sDb, sDd]))\n",
    "\n",
    "# Extract the observed intensities\n",
    "cA_obs = []\n",
    "cB_obs = []\n",
    "cC_obs = []\n",
    "cD_obs = []\n",
    "for isegment in range(nboxes):\n",
    "    nx1=nx1list[isegment]; nx2=nx2list[isegment] \n",
    "    ny1=ny1list[isegment]; ny2=ny2list[isegment]\n",
    "    cA_obs.append(np.mean(cA[ny1:ny2,nx1:nx2].astype('float')))\n",
    "    cB_obs.append(np.mean(cB[ny1:ny2,nx1:nx2].astype('float')))\n",
    "    cC_obs.append(np.mean(cC[ny1:ny2,nx1:nx2].astype('float')))\n",
    "    cD_obs.append(np.mean(cD[ny1:ny2,nx1:nx2].astype('float')))"
   ]
  },
  {
   "cell_type": "code",
   "execution_count": null,
   "metadata": {
    "scrolled": false
   },
   "outputs": [],
   "source": [
    "# See what the A-D detector parameters look like graphically\n",
    "plt.figure()\n",
    "markersize = 10\n",
    "plt.plot(slistA,cA_obs,'or',markersize=15)\n",
    "plt.plot(slistB,cB_obs,'<b',markersize=15)\n",
    "plt.plot(slistC,cC_obs,'sy',markersize=15)\n",
    "plt.plot(slistD,cD_obs,'>g',markersize=15)\n",
    "plt.legend(['A', 'B', 'C', 'D'],loc='upper left')\n",
    "plt.plot(slistA[0],cA_obs[0],'k*')\n",
    "plt.plot(slistA[1],cA_obs[1],'kx')\n",
    "plt.plot(slistA[2],cA_obs[2],'k+')\n",
    "plt.plot(slistB[0],cB_obs[0],'k*')\n",
    "plt.plot(slistB[1],cB_obs[1],'kx')\n",
    "plt.plot(slistB[2],cB_obs[2],'k+')\n",
    "plt.plot(slistC[0],cC_obs[0],'k*')\n",
    "plt.plot(slistC[1],cC_obs[1],'kx')\n",
    "plt.plot(slistC[2],cC_obs[2],'k+')\n",
    "plt.plot(slistD[0],cD_obs[0],'k*')\n",
    "plt.plot(slistD[1],cD_obs[1],'kx')\n",
    "plt.plot(slistD[2],cD_obs[2],'k+')\n",
    "plt.grid()\n",
    "srange = [-.6,.6]\n",
    "plt.xlim(srange)\n",
    "plt.xlabel('$s$')\n",
    "plt.ylabel('$c_{obs}$')\n",
    "\n",
    "\n",
    "# Fitting\n",
    "maxorder = 1\n",
    "order = min(len(slistA)-1,maxorder)\n",
    "pA = np.polyfit(slistA,cA_obs,order); print('pA =', pA[0], ',', pA[1])\n",
    "pB = np.polyfit(slistB,cB_obs,order); print('pB =', pB[0], ',', pB[1])\n",
    "pC = np.polyfit(slistC,cC_obs,order); print('pC =', pC[0], ',', pC[1])\n",
    "pD = np.polyfit(slistD,cD_obs,order); print('pD =', pD[0], ',', pD[1])\n",
    "s_theory = np.linspace(srange[0],srange[1])\n",
    "cA_theory = np.polyval(pA,s_theory)\n",
    "cB_theory = np.polyval(pB,s_theory)\n",
    "cC_theory = np.polyval(pC,s_theory)\n",
    "cD_theory = np.polyval(pD,s_theory)\n",
    "plt.plot(s_theory,cA_theory,'-r',linewidth=2)\n",
    "plt.plot(s_theory,cB_theory,'--b',linewidth=2)\n",
    "plt.plot(s_theory,cC_theory,'-.y',linewidth=2)\n",
    "plt.plot(s_theory,cD_theory,':g',linewidth=2)\n",
    "plt.title(imageroot)"
   ]
  },
  {
   "cell_type": "code",
   "execution_count": null,
   "metadata": {},
   "outputs": [],
   "source": [
    "# Save the calibration file\n",
    "cfile = open(Calibrationfile,'w')\n",
    "cfile.write('&Calibration\\n')\n",
    "cfile.write('   '+'pA = '+str(pA[0])+',  '+str(pA[1])+'\\n')\n",
    "cfile.write('   '+'pB = '+str(pB[0])+',  '+str(pB[1])+'\\n')\n",
    "cfile.write('   '+'pC = '+str(pC[0])+',  '+str(pC[1])+'\\n')\n",
    "cfile.write('   '+'pD = '+str(pD[0])+',  '+str(pD[1])+'\\n')\n",
    "cfile.write('/ \\n')\n",
    "cfile.close()"
   ]
  },
  {
   "cell_type": "code",
   "execution_count": null,
   "metadata": {},
   "outputs": [],
   "source": []
  }
 ],
 "metadata": {
  "kernelspec": {
   "display_name": "Python 3",
   "language": "python",
   "name": "python3"
  },
  "language_info": {
   "codemirror_mode": {
    "name": "ipython",
    "version": 3
   },
   "file_extension": ".py",
   "mimetype": "text/x-python",
   "name": "python",
   "nbconvert_exporter": "python",
   "pygments_lexer": "ipython3",
   "version": "3.6.5"
  }
 },
 "nbformat": 4,
 "nbformat_minor": 1
}
